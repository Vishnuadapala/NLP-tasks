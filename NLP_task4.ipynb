{
  "nbformat": 4,
  "nbformat_minor": 0,
  "metadata": {
    "colab": {
      "provenance": []
    },
    "kernelspec": {
      "name": "python3",
      "display_name": "Python 3"
    },
    "language_info": {
      "name": "python"
    }
  },
  "cells": [
    {
      "cell_type": "code",
      "execution_count": null,
      "metadata": {
        "id": "T69CwF3cDQmn",
        "colab": {
          "base_uri": "https://localhost:8080/"
        },
        "outputId": "983a96ba-c89e-435b-d4aa-8727efc9be2f"
      },
      "outputs": [
        {
          "output_type": "stream",
          "name": "stderr",
          "text": [
            "[nltk_data] Downloading package punkt to /root/nltk_data...\n",
            "[nltk_data]   Unzipping tokenizers/punkt.zip.\n",
            "[nltk_data] Downloading package stopwords to /root/nltk_data...\n",
            "[nltk_data]   Unzipping corpora/stopwords.zip.\n",
            "[nltk_data] Downloading package punkt_tab to /root/nltk_data...\n",
            "[nltk_data]   Unzipping tokenizers/punkt_tab.zip.\n"
          ]
        },
        {
          "output_type": "stream",
          "name": "stdout",
          "text": [
            "Morphology of the document:\n",
            "memory: 2\n",
            "lstms: 2\n",
            "dependencies: 2\n",
            "time: 2\n",
            "long: 1\n",
            "lstm: 1\n",
            "enhanced: 1\n",
            "version: 1\n",
            "recurrent: 1\n",
            "neural: 1\n",
            "network: 1\n",
            "rnn: 1\n",
            "designed: 1\n",
            "hochreiter: 1\n",
            "schmidhuber: 1\n",
            "capture: 1\n",
            "sequential: 1\n",
            "data: 1\n",
            "making: 1\n",
            "ideal: 1\n",
            "tasks: 1\n",
            "like: 1\n",
            "language: 1\n",
            "translation: 1\n",
            "speech: 1\n",
            "recognition: 1\n",
            "series: 1\n",
            "forecasting: 1\n",
            "unlike: 1\n",
            "traditional: 1\n",
            "rnns: 1\n",
            "use: 1\n",
            "single: 1\n",
            "hidden: 1\n",
            "state: 1\n",
            "passed: 1\n",
            "introduce: 1\n",
            "cell: 1\n",
            "holds: 1\n",
            "information: 1\n",
            "extended: 1\n",
            "periods: 1\n",
            "addressing: 1\n",
            "challenge: 1\n",
            "learning: 1\n"
          ]
        }
      ],
      "source": [
        "import nltk\n",
        "from nltk.tokenize import word_tokenize\n",
        "from nltk.corpus import stopwords\n",
        "from nltk.probability import FreqDist\n",
        "nltk.download('punkt')\n",
        "nltk.download('stopwords')\n",
        "nltk.download('punkt_tab')\n",
        "def load_document(file_path):\n",
        "    with open(file_path, 'r', encoding='utf-8') as file:\n",
        "        return file.read()\n",
        "def tokenize_document(document):\n",
        "    tokens = word_tokenize(document)\n",
        "    return [word.lower() for word in tokens if word.isalpha()]\n",
        "def remove_stopwords(tokens):\n",
        "    stop_words = set(stopwords.words('english'))\n",
        "    return [word for word in tokens if word not in stop_words]\n",
        "def find_morphology(tokens):\n",
        "    fdist = FreqDist(tokens)\n",
        "    return fdist.most_common()\n",
        "document_path = '/content/Long Short-Term Memory (LSTM) is an.txt'\n",
        "document = load_document(document_path)\n",
        "tokens = tokenize_document(document)\n",
        "tokens_without_stopwords = remove_stopwords(tokens)\n",
        "morphology = find_morphology(tokens_without_stopwords)\n",
        "print(\"Morphology of the document:\")\n",
        "for word, frequency in morphology:\n",
        "    print(f\"{word}: {frequency}\")"
      ]
    }
  ]
}